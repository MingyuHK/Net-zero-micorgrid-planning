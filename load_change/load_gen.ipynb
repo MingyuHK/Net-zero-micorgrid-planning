{
 "cells": [
  {
   "cell_type": "code",
   "execution_count": 9,
   "id": "6d85851a-64b8-4694-8fc1-c7e1af549d88",
   "metadata": {},
   "outputs": [],
   "source": [
    "import time\n",
    "import numpy as np\n",
    "import cvxpy as cvx\n",
    "import pandas as pd\n",
    "import matplotlib.pyplot as plt\n",
    "# cluster the load into different groups\n",
    "import pandas as pd\n",
    "import numpy as np\n",
    "from sklearn.cluster import KMeans\n",
    "from sklearn.metrics import silhouette_score\n",
    "from sklearn.metrics import davies_bouldin_score\n",
    "from sklearn import manifold\n",
    "from sklearn.metrics.pairwise import pairwise_distances"
   ]
  },
  {
   "cell_type": "code",
   "execution_count": 10,
   "id": "863ca81c-da69-4f3e-99ef-e0f1a79bf486",
   "metadata": {},
   "outputs": [],
   "source": [
    "# from net_load data to get the cluster related variables\n",
    "class cluster_net_load:\n",
    "    def __init__(self, net_load):\n",
    "        self.net_load = net_load\n",
    "        \n",
    "    def get_cluster(self):\n",
    "        k = 16\n",
    "        kmeans = KMeans(n_clusters=k, random_state = 42)\n",
    "        kmeans = KMeans(n_clusters=k)\n",
    "        y_pred = kmeans.fit_predict(self.net_load)\n",
    "        centers = kmeans.cluster_centers_ \n",
    "        period_day_num = 0\n",
    "        \n",
    "        # get period\n",
    "        cluster = y_pred[0]\n",
    "        temp1 = []\n",
    "        temp2 = []\n",
    "        for i in range(len(y_pred)):\n",
    "            if y_pred[i] == cluster:\n",
    "                period_day_num = period_day_num+1\n",
    "            else:\n",
    "                temp1.append(period_day_num)\n",
    "                temp2.append(cluster)\n",
    "                cluster = y_pred[i]\n",
    "                period_day_num = 1\n",
    "        temp1.append(period_day_num)\n",
    "        temp2.append(cluster)\n",
    "\n",
    "        period = []\n",
    "        period.append(temp1)\n",
    "        period.append(temp2)\n",
    "        period = np.array(period)\n",
    "        period_data = pd.DataFrame(period)\n",
    "        period_data.to_csv('data/period.csv', sep= ',', encoding='utf-8', header=False, index=False)\n",
    "        \n",
    "        # get cluster day_index and cluster day_num \n",
    "        data_cen = np.r_[self.net_load, centers]\n",
    "        k = len(centers)\n",
    "        closest_ind = np.arange(k)\n",
    "        dist = pairwise_distances(data_cen, metric='euclidean')\n",
    "        for i in range(k):\n",
    "            closest_ind_tmp = np.where(dist[0:-k, -i-1] == np.min(dist[0:-k, -i-1]))\n",
    "            closest_ind[i] = closest_ind_tmp[0][0]\n",
    "\n",
    "        center_day = closest_ind+1\n",
    "        # reverse\n",
    "        center_day = center_day[::-1]\n",
    "        \n",
    "        cluster_day_num = []\n",
    "        for cluster in range(0, k):\n",
    "            day_cluster = np.argwhere(y_pred==cluster)\n",
    "            cluster_day_num.append(len(day_cluster))\n",
    "        cluster_day_num = np.array(cluster_day_num)\n",
    "        \n",
    "        cluster_day = []\n",
    "        cluster_day.append(center_day)\n",
    "        cluster_day.append(cluster_day_num)\n",
    "        cluster_day = np.array(cluster_day)\n",
    "        \n",
    "        cluster_day_data = pd.DataFrame(cluster_day)\n",
    "        cluster_day_data.to_csv('data/cluster_day.csv', sep= ',', encoding='utf-8', header=False, index=False)"
   ]
  },
  {
   "cell_type": "code",
   "execution_count": 11,
   "id": "6b25a664-5361-438a-a235-893359b528a5",
   "metadata": {},
   "outputs": [
    {
     "name": "stdout",
     "output_type": "stream",
     "text": [
      "cluster finished\n"
     ]
    }
   ],
   "source": [
    "df_load = pd.read_csv(\"data/day_load.csv\", header=None)\n",
    "load = df_load.values\n",
    "cluster_load = cluster_net_load(10*load)\n",
    "cluster_load.get_cluster()\n",
    "print('cluster finished')"
   ]
  },
  {
   "cell_type": "code",
   "execution_count": null,
   "id": "10b58e77-dba7-4a8d-b93f-762960f3744d",
   "metadata": {},
   "outputs": [],
   "source": []
  }
 ],
 "metadata": {
  "kernelspec": {
   "display_name": "optim",
   "language": "python",
   "name": "optim"
  },
  "language_info": {
   "codemirror_mode": {
    "name": "ipython",
    "version": 3
   },
   "file_extension": ".py",
   "mimetype": "text/x-python",
   "name": "python",
   "nbconvert_exporter": "python",
   "pygments_lexer": "ipython3",
   "version": "3.8.15"
  }
 },
 "nbformat": 4,
 "nbformat_minor": 5
}
